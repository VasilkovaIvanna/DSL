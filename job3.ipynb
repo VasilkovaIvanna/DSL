{
  "nbformat": 4,
  "nbformat_minor": 0,
  "metadata": {
    "colab": {
      "name": "job3.ipynb",
      "provenance": [],
      "authorship_tag": "ABX9TyNXHm6qHjSWRUuSdsf9BAX/",
      "include_colab_link": true
    },
    "kernelspec": {
      "name": "python3",
      "display_name": "Python 3"
    },
    "language_info": {
      "name": "python"
    }
  },
  "cells": [
    {
      "cell_type": "markdown",
      "metadata": {
        "id": "view-in-github",
        "colab_type": "text"
      },
      "source": [
        "<a href=\"https://colab.research.google.com/github/VasilkovaIvanna/DSL/blob/main/job3.ipynb\" target=\"_parent\"><img src=\"https://colab.research.google.com/assets/colab-badge.svg\" alt=\"Open In Colab\"/></a>"
      ]
    },
    {
      "cell_type": "code",
      "metadata": {
        "colab": {
          "base_uri": "https://localhost:8080/"
        },
        "id": "9EjZP9A3Jy2h",
        "outputId": "318899d1-b1de-4287-9b1e-4915ddec63b6"
      },
      "source": [
        "'''\n",
        "Function that takes terminals, rules and some sequence (right part of production) and returns whether the sequence is eps.\n",
        "'''\n",
        "def check_eps(terms, rules, seq):\n",
        "    if seq == ['eps']:\n",
        "        return True\n",
        "    for symbol in seq:\n",
        "        if symbol in terms:\n",
        "            return False\n",
        "        is_eps = False\n",
        "        for rule in rules[symbol]:\n",
        "            res = check_eps(terms, rules, rule)\n",
        "            if res:\n",
        "                is_eps = True\n",
        "        if not is_eps:\n",
        "            return False\n",
        "    return True\n",
        "\n",
        "'''\n",
        "Function that takes terminals, nonterminals, rules and current nonterminal A and returns set of terminals, that are the first elements of strings that derive from it\n",
        "'''\n",
        "\n",
        "def first(terminals, nonterminals, rules, current, result):\n",
        "    for rule in rules[current]:\n",
        "      for symbol in rule: \n",
        "        if symbol in terminals:\n",
        "            result.add(symbol)\n",
        "            break\n",
        "        elif symbol in nonterminals:\n",
        "          first(terminals, nonterminals, rules, symbol, result) # call first recursively \n",
        "          if not check_eps(terminals, rules, [symbol]):\n",
        "            break\n",
        "    return set(result)\n",
        "\n",
        "'''\n",
        "Function that takes terminals, nonterminals, rules and start. Returns a dictionary, with nonterminals as keys and set of terminals as values that can be the folloving symbols for corresponding nonterminal\n",
        "'''\n",
        "def follow(terms, nonterms, rules, start):\n",
        "    result = {i:[] for i in nonterms}\n",
        "    result[start].append('$')\n",
        "    for _ in range(10):\n",
        "        for nonterminal, vals in rules.items():\n",
        "            for rule in vals:\n",
        "                for symbol in rule:\n",
        "                    if symbol not in nonterms:\n",
        "                        continue\n",
        "                    index = rule.index(symbol)\n",
        "                    if index < len(rule)-1:\n",
        "                        next_b = rule[index+1]\n",
        "                        if check_eps(terms, rules, rule[index+1:]):\n",
        "                            result[symbol].extend(result[nonterminal])\n",
        "                            for elem in rule[index+1:]:\n",
        "                                result[symbol].extend(first(terms, nonterms, rules, elem, set()))\n",
        "                                if elem in terms or check_eps(terms, rules, [elem]) :\n",
        "                                    break                        \n",
        "                        elif next_b in terms:\n",
        "                            result[symbol].append(next_b)\n",
        "                        else:\n",
        "                            result[symbol].extend(first(terms, nonterms, rules, rule[index+1], set()))\n",
        "                    else:\n",
        "                        result[symbol].extend(result[nonterminal])\n",
        "    return {a:set(b) for a,b in result.items()}\n",
        "            \n",
        "    \n",
        "term_1 = ['a', 'b', 'c', 'd', 'f', 'g', 'h', 'e']\n",
        "ruls_1 = {   \n",
        "        'A': [['a' ,'B', 'D', 'h']],\n",
        "        'B': [['c', 'C']],            \n",
        "        'C': [['b', 'C']],             \n",
        "        'D': [['E', 'F']],\n",
        "        'E': [['g'], ['e']],\n",
        "        'F': [['f'], ['e'], ['eps']]\n",
        "        }\n",
        "nonterm_1 = ['S', 'A', 'B', 'D', 'C', 'E', 'F']\n",
        "start_1 = 'A'\n",
        "\n",
        "print(follow(term_1, nonterm_1, ruls_1,start_1))\n",
        "\n"
      ],
      "execution_count": 4,
      "outputs": [
        {
          "output_type": "stream",
          "name": "stdout",
          "text": [
            "{'S': set(), 'A': {'$'}, 'B': {'e', 'g'}, 'D': {'h'}, 'C': {'e', 'g'}, 'E': {'f', 'h', 'e'}, 'F': {'h'}}\n"
          ]
        }
      ]
    }
  ]
}