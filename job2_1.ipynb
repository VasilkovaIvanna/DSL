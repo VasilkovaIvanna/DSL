{
  "nbformat": 4,
  "nbformat_minor": 0,
  "metadata": {
    "colab": {
      "name": "job2.1.ipynb",
      "provenance": [],
      "authorship_tag": "ABX9TyO1aiyg4Ji3ossgKBpTIh28",
      "include_colab_link": true
    },
    "kernelspec": {
      "name": "python3",
      "display_name": "Python 3"
    },
    "language_info": {
      "name": "python"
    }
  },
  "cells": [
    {
      "cell_type": "markdown",
      "metadata": {
        "id": "view-in-github",
        "colab_type": "text"
      },
      "source": [
        "<a href=\"https://colab.research.google.com/github/VasilkovaIvanna/DSL/blob/main/job2_1.ipynb\" target=\"_parent\"><img src=\"https://colab.research.google.com/assets/colab-badge.svg\" alt=\"Open In Colab\"/></a>"
      ]
    },
    {
      "cell_type": "code",
      "metadata": {
        "id": "Ai9yFfPCA4Pu"
      },
      "source": [
        ""
      ],
      "execution_count": null,
      "outputs": []
    },
    {
      "cell_type": "code",
      "metadata": {
        "id": "niwuChtLA_XJ",
        "colab": {
          "base_uri": "https://localhost:8080/"
        },
        "outputId": "18a2ff11-011a-4437-e08f-971eb0a26512"
      },
      "source": [
        "#-----Common fuctions-------------------------------------------------------------------------------------------------------------------------------------------------------\n",
        "\n",
        "'''\n",
        "the function that takes 2 lists and returns if first contains the second one\n",
        "'''\n",
        "def check_t(v, t):\n",
        "    return all(item in t for item in v)\n",
        "\n",
        "'''\n",
        "the function that takes grammar rules, terminals and nonterminals you want to keep.\n",
        "    removes all other rules that doesn't contain nonterminals you want to keep.\n",
        "returns rules after changes above\n",
        "\n",
        "'''\n",
        "def remove_unwanted_rules(rules,required_nonterminals, terminals):\n",
        "    return {p:[r for r in rules[p] if not sum([(not t in required_nonterminals) and (not t in terminals) for t in r])] for p in required_nonterminals}\n",
        "\n",
        "#-----Unproductive-------------------------------------------------------------------------------------------------------------------------------------------------------\n",
        "\n",
        "'''\n",
        "the function that takes grammar rules and terminals and returns set of productive nonterminals\n",
        "'''\n",
        "\n",
        "def find_productive(rules, terminals):\n",
        "    productive = []\n",
        "    for nonterms,vals in rules.items():\n",
        "        for val in vals:\n",
        "            if check_t(val, terminals):  # add to list of nonterminals for which there is at least one rule, the right part of which consists only of terminals\n",
        "                productive.extend(nonterms)\n",
        "            if check_t(productive, val): # if all the nonterminals standing on the right side are already listed, add the nonterminals standing on the left side of the list\n",
        "                productive.extend(nonterms)\n",
        "    return set(productive)\n",
        "\n",
        "'''\n",
        "the function that takes grammar rules and set of productive nonterminals and returms rules without nonproductive nonterminals and its rules\n",
        "'''\n",
        "def remove_unproductive(rules, productive):\n",
        "    return remove_unwanted_rules(rules, productive, terminals)\n",
        "\n",
        "#-----Unattainable-------------------------------------------------------------------------------------------------------------------------------------------------------\n",
        "\n",
        "'''\n",
        "the function that takes start nonterminal, grammar rules, terminals and nonterminals and returns set of attainable nonterminals\n",
        "'''\n",
        "def find_unattainable(start_nonterminal, rules, terminals, nonterminals):\n",
        "    attainable = []\n",
        "    for nonterms,vals in rules.items():\n",
        "        for val in vals:\n",
        "            if nonterms == start_nonterminal:\n",
        "                attainable.extend(list(filter(lambda s: s not in terminals, val))) # if a rule is found, the left side of which is already in the list, then include in the list all nonterminals from its right side.\n",
        "    return set(attainable)\n",
        "\n",
        "'''\n",
        "the function that takes grammar rules and set of attainable nonterminals and returms rules without unattainable nonterminals and its rules\n",
        "'''\n",
        "def remove_unattainable(rules,attainable, terminals):\n",
        "    return remove_unwanted_rules(rules, attainable, terminals)\n",
        "\n",
        "#-----Example-------------------------------------------------------------------------------------------------------------------------------------------------------\n",
        "\n",
        "\n",
        "terminals = [\"a\", \"b\", \"eps\"]\n",
        "ruls = {\"S\" : [[\"S\", \"A\"], [\"B\", \"S\", \"b\"], [\"b\", \"A\", \"b\"]], \"A\" : [[\"a\",\"S\",\"a\"], [\"b\",\"b\"]], \"B\": [[\"b\", \"B\", \"b\"], [\"B\", \"a\", \"A\"]], \"M\": [[\"a\"]]}\n",
        "nonterminals = [\"S\", \"A\", \"B\"]\n",
        "\n",
        "clear_from_unproductive_rules = remove_unproductive(ruls, find_productive(ruls, terminals))    \n",
        "print(remove_unattainable(clear_from_unproductive_rules, find_unattainable(\"S\", clear_from_unproductive_rules, terminals, find_productive(ruls, terminals)), terminals))\n"
      ],
      "execution_count": 1,
      "outputs": [
        {
          "output_type": "stream",
          "name": "stdout",
          "text": [
            "{'S': [['S', 'A'], ['b', 'A', 'b']], 'A': [['a', 'S', 'a'], ['b', 'b']]}\n"
          ]
        }
      ]
    }
  ]
}