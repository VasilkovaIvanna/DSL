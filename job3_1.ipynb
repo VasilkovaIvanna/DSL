{
  "nbformat": 4,
  "nbformat_minor": 0,
  "metadata": {
    "colab": {
      "name": "job3.1.ipynb",
      "provenance": [],
      "authorship_tag": "ABX9TyPlfXV23ZQSWY+eSUHrX8kb",
      "include_colab_link": true
    },
    "kernelspec": {
      "name": "python3",
      "display_name": "Python 3"
    },
    "language_info": {
      "name": "python"
    }
  },
  "cells": [
    {
      "cell_type": "markdown",
      "metadata": {
        "id": "view-in-github",
        "colab_type": "text"
      },
      "source": [
        "<a href=\"https://colab.research.google.com/github/VasilkovaIvanna/DSL/blob/main/job3_1.ipynb\" target=\"_parent\"><img src=\"https://colab.research.google.com/assets/colab-badge.svg\" alt=\"Open In Colab\"/></a>"
      ]
    },
    {
      "cell_type": "markdown",
      "metadata": {
        "id": "bICauz6Wi2yd"
      },
      "source": [
        "If α is any string of grammar symbols, let FIRST(α) be the set of terminals that begin the strings derived from α. If α ⇒ ε then ε is also in FIRST(α).\n"
      ]
    },
    {
      "cell_type": "code",
      "metadata": {
        "id": "OfwulvNOh6Fz"
      },
      "source": [
        "\n",
        "def first(terminals, nonterminals, ruls, start, result):\n",
        "    for rule in ruls[start]:\n",
        "        if rule[0] in terminals:\n",
        "            result.append(rule[0]) \n",
        "        elif rule[0] in nonterminals:\n",
        "            first(terminals, nonterminals, ruls, rule[0], result)\n",
        "    return set(result)\n",
        "            \n",
        "terminals = ['a', 'b', 'd', 'c', 'm']\n",
        "ruls = {'A' : [['B'], ['C']],\n",
        "        'C' : [['a', 'B'], ['d', 'c']],\n",
        "        'B': [['D']],\n",
        "        'D': [['b'], ['d']]\n",
        "        }\n",
        "nonterminals = ['S', 'A', 'B', 'D', 'C']\n",
        "start = 'A'\n",
        "\n",
        "result = []\n",
        "\n",
        "print(first(terminals, nonterminals, ruls, start, result))"
      ],
      "execution_count": null,
      "outputs": []
    }
  ]
}