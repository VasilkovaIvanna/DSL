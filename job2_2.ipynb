{
  "nbformat": 4,
  "nbformat_minor": 0,
  "metadata": {
    "colab": {
      "name": "job2.2.ipynb",
      "provenance": [],
      "authorship_tag": "ABX9TyOrtOwbkcXYde5/Nj0Urblj",
      "include_colab_link": true
    },
    "kernelspec": {
      "name": "python3",
      "display_name": "Python 3"
    },
    "language_info": {
      "name": "python"
    }
  },
  "cells": [
    {
      "cell_type": "markdown",
      "metadata": {
        "id": "view-in-github",
        "colab_type": "text"
      },
      "source": [
        "<a href=\"https://colab.research.google.com/github/VasilkovaIvanna/DSL/blob/main/job2_2.ipynb\" target=\"_parent\"><img src=\"https://colab.research.google.com/assets/colab-badge.svg\" alt=\"Open In Colab\"/></a>"
      ]
    },
    {
      "cell_type": "code",
      "metadata": {
        "colab": {
          "base_uri": "https://localhost:8080/"
        },
        "id": "SKe9tT5RBq3p",
        "outputId": "9fe1b877-7453-4fe8-8b06-e1ae7fe5f1bf"
      },
      "source": [
        "'''\n",
        "the function that takes 2 lists and returns if first contains the second one\n",
        "'''\n",
        "def check_t(v, t):\n",
        "    return all(item in t for item in v)\n",
        "\n",
        "'''\n",
        "the function that:\n",
        "    takes grammar including its rules, terminals and nonterminals;\n",
        "    returns set of vanishing nonterminals.\n",
        "'''\n",
        "def find_vanishing(rules, terminals, nonterminals):\n",
        "    W = []\n",
        "    for nonterms,vals in rules.items():\n",
        "        for val in vals:\n",
        "            if val == [\"eps\"]:\n",
        "                W.extend(nonterms)\n",
        "            if check_t(val, W):\n",
        "                W.extend(nonterms)\n",
        "    return set(W)\n",
        "                \n",
        "rules = {\"S\" : [[\"S\", \"A\"], [\"eps\"], [\"b\", \"A\", \"b\"]],\n",
        "                \"A\" : [[\"S\"], [\"B\"]],\n",
        "                \"B\" : [\"A\"]}\n",
        "terminals = [\"a\", \"b\", \"eps\"]\n",
        "nonterminals =  [\"S\", \"A\"]\n",
        "\n",
        "print(find_vanishing(rules, terminals, nonterminals))\n"
      ],
      "execution_count": 1,
      "outputs": [
        {
          "output_type": "stream",
          "name": "stdout",
          "text": [
            "{'A', 'S', 'B'}\n"
          ]
        }
      ]
    }
  ]
}